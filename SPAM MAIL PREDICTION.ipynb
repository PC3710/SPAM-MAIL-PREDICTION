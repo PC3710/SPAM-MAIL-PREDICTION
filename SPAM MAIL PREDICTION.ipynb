{
 "cells": [
  {
   "cell_type": "code",
   "execution_count": 458,
   "id": "4ce34ec5",
   "metadata": {},
   "outputs": [],
   "source": [
    "import pandas as pd\n",
    "import numpy as np\n",
    "import matplotlib.pyplot as mp\n",
    "import seaborn as sb\n",
    "import warnings #ignore warnings\n",
    "warnings.filterwarnings('ignore')"
   ]
  },
  {
   "cell_type": "code",
   "execution_count": 459,
   "id": "23b7319d",
   "metadata": {},
   "outputs": [
    {
     "data": {
      "text/html": [
       "<div>\n",
       "<style scoped>\n",
       "    .dataframe tbody tr th:only-of-type {\n",
       "        vertical-align: middle;\n",
       "    }\n",
       "\n",
       "    .dataframe tbody tr th {\n",
       "        vertical-align: top;\n",
       "    }\n",
       "\n",
       "    .dataframe thead th {\n",
       "        text-align: right;\n",
       "    }\n",
       "</style>\n",
       "<table border=\"1\" class=\"dataframe\">\n",
       "  <thead>\n",
       "    <tr style=\"text-align: right;\">\n",
       "      <th></th>\n",
       "      <th>Category</th>\n",
       "      <th>Message</th>\n",
       "    </tr>\n",
       "  </thead>\n",
       "  <tbody>\n",
       "    <tr>\n",
       "      <th>0</th>\n",
       "      <td>ham</td>\n",
       "      <td>Go until jurong point, crazy.. Available only ...</td>\n",
       "    </tr>\n",
       "    <tr>\n",
       "      <th>1</th>\n",
       "      <td>ham</td>\n",
       "      <td>Ok lar... Joking wif u oni...</td>\n",
       "    </tr>\n",
       "    <tr>\n",
       "      <th>2</th>\n",
       "      <td>spam</td>\n",
       "      <td>Free entry in 2 a wkly comp to win FA Cup fina...</td>\n",
       "    </tr>\n",
       "    <tr>\n",
       "      <th>3</th>\n",
       "      <td>ham</td>\n",
       "      <td>U dun say so early hor... U c already then say...</td>\n",
       "    </tr>\n",
       "    <tr>\n",
       "      <th>4</th>\n",
       "      <td>ham</td>\n",
       "      <td>Nah I don't think he goes to usf, he lives aro...</td>\n",
       "    </tr>\n",
       "  </tbody>\n",
       "</table>\n",
       "</div>"
      ],
      "text/plain": [
       "  Category                                            Message\n",
       "0      ham  Go until jurong point, crazy.. Available only ...\n",
       "1      ham                      Ok lar... Joking wif u oni...\n",
       "2     spam  Free entry in 2 a wkly comp to win FA Cup fina...\n",
       "3      ham  U dun say so early hor... U c already then say...\n",
       "4      ham  Nah I don't think he goes to usf, he lives aro..."
      ]
     },
     "execution_count": 459,
     "metadata": {},
     "output_type": "execute_result"
    }
   ],
   "source": [
    "# READING THE DATA_FILE :\n",
    "\n",
    "mail=pd.read_csv(\"spamham.csv\")\n",
    "mail.head()"
   ]
  },
  {
   "cell_type": "code",
   "execution_count": 460,
   "id": "0e6d2bba",
   "metadata": {},
   "outputs": [
    {
     "data": {
      "text/html": [
       "<div>\n",
       "<style scoped>\n",
       "    .dataframe tbody tr th:only-of-type {\n",
       "        vertical-align: middle;\n",
       "    }\n",
       "\n",
       "    .dataframe tbody tr th {\n",
       "        vertical-align: top;\n",
       "    }\n",
       "\n",
       "    .dataframe thead th {\n",
       "        text-align: right;\n",
       "    }\n",
       "</style>\n",
       "<table border=\"1\" class=\"dataframe\">\n",
       "  <thead>\n",
       "    <tr style=\"text-align: right;\">\n",
       "      <th></th>\n",
       "      <th>Category</th>\n",
       "      <th>Message</th>\n",
       "    </tr>\n",
       "  </thead>\n",
       "  <tbody>\n",
       "    <tr>\n",
       "      <th>0</th>\n",
       "      <td>ham</td>\n",
       "      <td>Go until jurong point, crazy.. Available only ...</td>\n",
       "    </tr>\n",
       "    <tr>\n",
       "      <th>1</th>\n",
       "      <td>ham</td>\n",
       "      <td>Ok lar... Joking wif u oni...</td>\n",
       "    </tr>\n",
       "    <tr>\n",
       "      <th>2</th>\n",
       "      <td>spam</td>\n",
       "      <td>Free entry in 2 a wkly comp to win FA Cup fina...</td>\n",
       "    </tr>\n",
       "    <tr>\n",
       "      <th>3</th>\n",
       "      <td>ham</td>\n",
       "      <td>U dun say so early hor... U c already then say...</td>\n",
       "    </tr>\n",
       "    <tr>\n",
       "      <th>4</th>\n",
       "      <td>ham</td>\n",
       "      <td>Nah I don't think he goes to usf, he lives aro...</td>\n",
       "    </tr>\n",
       "  </tbody>\n",
       "</table>\n",
       "</div>"
      ],
      "text/plain": [
       "  Category                                            Message\n",
       "0      ham  Go until jurong point, crazy.. Available only ...\n",
       "1      ham                      Ok lar... Joking wif u oni...\n",
       "2     spam  Free entry in 2 a wkly comp to win FA Cup fina...\n",
       "3      ham  U dun say so early hor... U c already then say...\n",
       "4      ham  Nah I don't think he goes to usf, he lives aro..."
      ]
     },
     "execution_count": 460,
     "metadata": {},
     "output_type": "execute_result"
    }
   ],
   "source": [
    "mail.head()"
   ]
  },
  {
   "cell_type": "code",
   "execution_count": 461,
   "id": "6fb34152",
   "metadata": {},
   "outputs": [
    {
     "data": {
      "text/plain": [
       "(5572, 2)"
      ]
     },
     "execution_count": 461,
     "metadata": {},
     "output_type": "execute_result"
    }
   ],
   "source": [
    "# SHAPE OF THE INPUT FILE :\n",
    "\n",
    "shape_=mail.shape\n",
    "shape_\n",
    "\n"
   ]
  },
  {
   "cell_type": "code",
   "execution_count": 462,
   "id": "88c493df",
   "metadata": {},
   "outputs": [
    {
     "data": {
      "text/plain": [
       "Index(['Category', 'Message'], dtype='object')"
      ]
     },
     "execution_count": 462,
     "metadata": {},
     "output_type": "execute_result"
    }
   ],
   "source": [
    "# GETTING THE COLUMN HEADERS : \n",
    "\n",
    "mail.columns"
   ]
  },
  {
   "cell_type": "code",
   "execution_count": 463,
   "id": "e2e8809d",
   "metadata": {},
   "outputs": [
    {
     "data": {
      "text/html": [
       "<div>\n",
       "<style scoped>\n",
       "    .dataframe tbody tr th:only-of-type {\n",
       "        vertical-align: middle;\n",
       "    }\n",
       "\n",
       "    .dataframe tbody tr th {\n",
       "        vertical-align: top;\n",
       "    }\n",
       "\n",
       "    .dataframe thead th {\n",
       "        text-align: right;\n",
       "    }\n",
       "</style>\n",
       "<table border=\"1\" class=\"dataframe\">\n",
       "  <thead>\n",
       "    <tr style=\"text-align: right;\">\n",
       "      <th></th>\n",
       "      <th>category</th>\n",
       "      <th>message</th>\n",
       "    </tr>\n",
       "  </thead>\n",
       "  <tbody>\n",
       "    <tr>\n",
       "      <th>0</th>\n",
       "      <td>ham</td>\n",
       "      <td>Go until jurong point, crazy.. Available only ...</td>\n",
       "    </tr>\n",
       "    <tr>\n",
       "      <th>1</th>\n",
       "      <td>ham</td>\n",
       "      <td>Ok lar... Joking wif u oni...</td>\n",
       "    </tr>\n",
       "    <tr>\n",
       "      <th>2</th>\n",
       "      <td>spam</td>\n",
       "      <td>Free entry in 2 a wkly comp to win FA Cup fina...</td>\n",
       "    </tr>\n",
       "    <tr>\n",
       "      <th>3</th>\n",
       "      <td>ham</td>\n",
       "      <td>U dun say so early hor... U c already then say...</td>\n",
       "    </tr>\n",
       "    <tr>\n",
       "      <th>4</th>\n",
       "      <td>ham</td>\n",
       "      <td>Nah I don't think he goes to usf, he lives aro...</td>\n",
       "    </tr>\n",
       "  </tbody>\n",
       "</table>\n",
       "</div>"
      ],
      "text/plain": [
       "  category                                            message\n",
       "0      ham  Go until jurong point, crazy.. Available only ...\n",
       "1      ham                      Ok lar... Joking wif u oni...\n",
       "2     spam  Free entry in 2 a wkly comp to win FA Cup fina...\n",
       "3      ham  U dun say so early hor... U c already then say...\n",
       "4      ham  Nah I don't think he goes to usf, he lives aro..."
      ]
     },
     "execution_count": 463,
     "metadata": {},
     "output_type": "execute_result"
    }
   ],
   "source": [
    "# RENAMING THE COLUMN HEADERS :\n",
    "\n",
    "mail.rename(columns=str.lower,inplace=True)\n",
    "mail.head()"
   ]
  },
  {
   "cell_type": "code",
   "execution_count": 464,
   "id": "0ea0bba0",
   "metadata": {},
   "outputs": [
    {
     "data": {
      "text/plain": [
       "array(['ham', 'spam'], dtype=object)"
      ]
     },
     "execution_count": 464,
     "metadata": {},
     "output_type": "execute_result"
    }
   ],
   "source": [
    "# GETTING THE UNIQUE VALUES IN THE REQUIRED COLUMN :\n",
    "\n",
    "mail['category'].unique()"
   ]
  },
  {
   "cell_type": "code",
   "execution_count": 465,
   "id": "6f0aaf65",
   "metadata": {},
   "outputs": [
    {
     "data": {
      "text/plain": [
       "2"
      ]
     },
     "execution_count": 465,
     "metadata": {},
     "output_type": "execute_result"
    }
   ],
   "source": [
    "# GETTING THE NUMBER OF UNIQUE VALUES IN REQUIRED COLUMN :\n",
    "\n",
    "mail['category'].nunique()\n"
   ]
  },
  {
   "cell_type": "code",
   "execution_count": 466,
   "id": "2cd4dd95",
   "metadata": {},
   "outputs": [
    {
     "data": {
      "text/plain": [
       "ham     4825\n",
       "spam     747\n",
       "Name: category, dtype: int64"
      ]
     },
     "execution_count": 466,
     "metadata": {},
     "output_type": "execute_result"
    }
   ],
   "source": [
    "# FREQUENCY OF EACH VALUE IN THE TARGET VARIABLE \n",
    "\n",
    "mail['category'].value_counts()"
   ]
  },
  {
   "cell_type": "code",
   "execution_count": 467,
   "id": "c39f5979",
   "metadata": {},
   "outputs": [
    {
     "data": {
      "text/plain": [
       "category    0\n",
       "message     0\n",
       "dtype: int64"
      ]
     },
     "execution_count": 467,
     "metadata": {},
     "output_type": "execute_result"
    }
   ],
   "source": [
    "# CHECKING FOR  NUMBER OF NULL VALUES :\n",
    "\n",
    "mail.isna()\n",
    "mail.isna().sum()"
   ]
  },
  {
   "cell_type": "code",
   "execution_count": 468,
   "id": "c6b5ba66",
   "metadata": {},
   "outputs": [
    {
     "data": {
      "text/html": [
       "<div>\n",
       "<style scoped>\n",
       "    .dataframe tbody tr th:only-of-type {\n",
       "        vertical-align: middle;\n",
       "    }\n",
       "\n",
       "    .dataframe tbody tr th {\n",
       "        vertical-align: top;\n",
       "    }\n",
       "\n",
       "    .dataframe thead th {\n",
       "        text-align: right;\n",
       "    }\n",
       "</style>\n",
       "<table border=\"1\" class=\"dataframe\">\n",
       "  <thead>\n",
       "    <tr style=\"text-align: right;\">\n",
       "      <th></th>\n",
       "      <th>category</th>\n",
       "      <th>message</th>\n",
       "    </tr>\n",
       "  </thead>\n",
       "  <tbody>\n",
       "    <tr>\n",
       "      <th>103</th>\n",
       "      <td>ham</td>\n",
       "      <td>As per your request 'Melle Melle (Oru Minnamin...</td>\n",
       "    </tr>\n",
       "    <tr>\n",
       "      <th>154</th>\n",
       "      <td>ham</td>\n",
       "      <td>As per your request 'Melle Melle (Oru Minnamin...</td>\n",
       "    </tr>\n",
       "    <tr>\n",
       "      <th>207</th>\n",
       "      <td>ham</td>\n",
       "      <td>As I entered my cabin my PA said, '' Happy B'd...</td>\n",
       "    </tr>\n",
       "    <tr>\n",
       "      <th>223</th>\n",
       "      <td>ham</td>\n",
       "      <td>Sorry, I'll call later</td>\n",
       "    </tr>\n",
       "    <tr>\n",
       "      <th>326</th>\n",
       "      <td>ham</td>\n",
       "      <td>No calls..messages..missed calls</td>\n",
       "    </tr>\n",
       "    <tr>\n",
       "      <th>...</th>\n",
       "      <td>...</td>\n",
       "      <td>...</td>\n",
       "    </tr>\n",
       "    <tr>\n",
       "      <th>5524</th>\n",
       "      <td>spam</td>\n",
       "      <td>You are awarded a SiPix Digital Camera! call 0...</td>\n",
       "    </tr>\n",
       "    <tr>\n",
       "      <th>5535</th>\n",
       "      <td>ham</td>\n",
       "      <td>I know you are thinkin malaria. But relax, chi...</td>\n",
       "    </tr>\n",
       "    <tr>\n",
       "      <th>5539</th>\n",
       "      <td>ham</td>\n",
       "      <td>Just sleeping..and surfing</td>\n",
       "    </tr>\n",
       "    <tr>\n",
       "      <th>5553</th>\n",
       "      <td>ham</td>\n",
       "      <td>Hahaha..use your brain dear</td>\n",
       "    </tr>\n",
       "    <tr>\n",
       "      <th>5558</th>\n",
       "      <td>ham</td>\n",
       "      <td>Sorry, I'll call later</td>\n",
       "    </tr>\n",
       "  </tbody>\n",
       "</table>\n",
       "<p>415 rows × 2 columns</p>\n",
       "</div>"
      ],
      "text/plain": [
       "     category                                            message\n",
       "103       ham  As per your request 'Melle Melle (Oru Minnamin...\n",
       "154       ham  As per your request 'Melle Melle (Oru Minnamin...\n",
       "207       ham  As I entered my cabin my PA said, '' Happy B'd...\n",
       "223       ham                             Sorry, I'll call later\n",
       "326       ham                   No calls..messages..missed calls\n",
       "...       ...                                                ...\n",
       "5524     spam  You are awarded a SiPix Digital Camera! call 0...\n",
       "5535      ham  I know you are thinkin malaria. But relax, chi...\n",
       "5539      ham                         Just sleeping..and surfing\n",
       "5553      ham                        Hahaha..use your brain dear\n",
       "5558      ham                             Sorry, I'll call later\n",
       "\n",
       "[415 rows x 2 columns]"
      ]
     },
     "execution_count": 468,
     "metadata": {},
     "output_type": "execute_result"
    }
   ],
   "source": [
    "# CHECKING FOR DUPLICATES :\n",
    "\n",
    "mail.duplicated()\n",
    "a=mail[mail.duplicated()]\n",
    "a\n",
    "\n",
    "# Duplicates are removed in one of the cell below,Hence no output is shown"
   ]
  },
  {
   "cell_type": "code",
   "execution_count": 469,
   "id": "2a0ba3fa",
   "metadata": {},
   "outputs": [
    {
     "data": {
      "text/plain": [
       "(415, 2)"
      ]
     },
     "execution_count": 469,
     "metadata": {},
     "output_type": "execute_result"
    }
   ],
   "source": [
    "# SHAPE OF DUPLICATED ROWS :\n",
    "\n",
    "a.shape"
   ]
  },
  {
   "cell_type": "code",
   "execution_count": 470,
   "id": "54a45000",
   "metadata": {},
   "outputs": [
    {
     "name": "stdout",
     "output_type": "stream",
     "text": [
      "Actual Data Shape                        : (5572, 2)\n",
      "Shape of Data after removing duplicates\t : (5157, 2)\n"
     ]
    }
   ],
   "source": [
    "# REMOVING DUPLICATE DATA FROM DATA_SET :\n",
    "\n",
    "print(\"Actual Data Shape                        :\",shape_)\n",
    "mail.drop_duplicates(inplace=True)\n",
    "\n",
    "print(\"Shape of Data after removing duplicates\\t :\",mail.shape)"
   ]
  },
  {
   "cell_type": "code",
   "execution_count": 471,
   "id": "e46878ec",
   "metadata": {},
   "outputs": [
    {
     "data": {
      "image/png": "[encoded data removed]",
      "text/plain": [
       "<Figure size 432x432 with 1 Axes>"
      ]
     },
     "metadata": {},
     "output_type": "display_data"
    }
   ],
   "source": [
    "# REPRESENTING FREQUENCY OF EACH MAIL TYPE IN PIE CHART :\n",
    "\n",
    "mp.figure(figsize=(6,6))\n",
    "\n",
    "label=mail.category.value_counts().index\n",
    "labels=['Normal Mail','Spam Mail']\n",
    "\n",
    "\n",
    "mp.pie(mail.category.value_counts(),autopct='%.1f%%',labels=labels)\n",
    "mp.legend(label)\n",
    "\n",
    "mp.show()\n",
    " "
   ]
  },
  {
   "cell_type": "code",
   "execution_count": 472,
   "id": "1cc6088f",
   "metadata": {},
   "outputs": [
    {
     "data": {
      "text/html": [
       "<div>\n",
       "<style scoped>\n",
       "    .dataframe tbody tr th:only-of-type {\n",
       "        vertical-align: middle;\n",
       "    }\n",
       "\n",
       "    .dataframe tbody tr th {\n",
       "        vertical-align: top;\n",
       "    }\n",
       "\n",
       "    .dataframe thead th {\n",
       "        text-align: right;\n",
       "    }\n",
       "</style>\n",
       "<table border=\"1\" class=\"dataframe\">\n",
       "  <thead>\n",
       "    <tr style=\"text-align: right;\">\n",
       "      <th></th>\n",
       "      <th>category</th>\n",
       "      <th>message</th>\n",
       "    </tr>\n",
       "  </thead>\n",
       "  <tbody>\n",
       "    <tr>\n",
       "      <th>0</th>\n",
       "      <td>0</td>\n",
       "      <td>Go until jurong point, crazy.. Available only ...</td>\n",
       "    </tr>\n",
       "    <tr>\n",
       "      <th>1</th>\n",
       "      <td>0</td>\n",
       "      <td>Ok lar... Joking wif u oni...</td>\n",
       "    </tr>\n",
       "    <tr>\n",
       "      <th>2</th>\n",
       "      <td>1</td>\n",
       "      <td>Free entry in 2 a wkly comp to win FA Cup fina...</td>\n",
       "    </tr>\n",
       "    <tr>\n",
       "      <th>3</th>\n",
       "      <td>0</td>\n",
       "      <td>U dun say so early hor... U c already then say...</td>\n",
       "    </tr>\n",
       "    <tr>\n",
       "      <th>4</th>\n",
       "      <td>0</td>\n",
       "      <td>Nah I don't think he goes to usf, he lives aro...</td>\n",
       "    </tr>\n",
       "  </tbody>\n",
       "</table>\n",
       "</div>"
      ],
      "text/plain": [
       "   category                                            message\n",
       "0         0  Go until jurong point, crazy.. Available only ...\n",
       "1         0                      Ok lar... Joking wif u oni...\n",
       "2         1  Free entry in 2 a wkly comp to win FA Cup fina...\n",
       "3         0  U dun say so early hor... U c already then say...\n",
       "4         0  Nah I don't think he goes to usf, he lives aro..."
      ]
     },
     "execution_count": 472,
     "metadata": {},
     "output_type": "execute_result"
    }
   ],
   "source": [
    "#CONVERTING TO BINARY DATA :\n",
    "\n",
    "mail.loc[mail['category'] == 'ham', 'category']  = 0     # DISADVANTAGE : data will be of dtype <object> instead of <int>\n",
    "mail.loc[mail['category'] == 'spam', 'category'] = 1\n",
    "\n",
    "mail=mail.astype({'category':'int'})                     # Converting column to dtype <int>\n",
    "mail.head()\n"
   ]
  },
  {
   "cell_type": "code",
   "execution_count": 500,
   "id": "a9af82a5",
   "metadata": {},
   "outputs": [
    {
     "name": "stdout",
     "output_type": "stream",
     "text": [
      "INPUT DATA :\n",
      "['Go until jurong point, crazy.. Available only in bugis n great world la e buffet... Cine there got amore wat...'\n",
      " 'Ok lar... Joking wif u oni...'\n",
      " \"Free entry in 2 a wkly comp to win FA Cup final tkts 21st May 2005. Text FA to 87121 to receive entry question(std txt rate)T&C's apply 08452810075over18's\"\n",
      " ... 'Pity, * was in mood for that. So...any other suggestions?'\n",
      " \"The guy did some bitching but I acted like i'd be interested in buying something else next week and he gave it to us for free\"\n",
      " 'Rofl. Its true to its name'] \n",
      "\n",
      "(5157,)\n",
      "TARGET DATA :\n",
      "[0 0 1 ... 0 0 0]\n",
      "(5157,)\n",
      "<class 'pandas.core.frame.DataFrame'>\n",
      "Int64Index: 5157 entries, 0 to 5571\n",
      "Data columns (total 2 columns):\n",
      " #   Column    Non-Null Count  Dtype \n",
      "---  ------    --------------  ----- \n",
      " 0   category  5157 non-null   int32 \n",
      " 1   message   5157 non-null   object\n",
      "dtypes: int32(1), object(1)\n",
      "memory usage: 100.7+ KB\n",
      "None\n"
     ]
    }
   ],
   "source": [
    "# SEPERATING INPUT AND TARGET VARIABLES :\n",
    "\n",
    "x=mail['message'].values                         # Input Data      .values ,takes each entry into an numpy array\n",
    "                                                                   #if not done,possibility of errors during vectorization\n",
    "print(\"INPUT DATA :\")\n",
    "print(x,'\\n')\n",
    "print(x.shape)\n",
    "\n",
    "y=mail['category'].values                        # Target Data \n",
    "\n",
    "print(\"TARGET DATA :\")\n",
    "print(y)\n",
    "print(y.shape)\n",
    "\n",
    "print(mail.info())"
   ]
  },
  {
   "cell_type": "markdown",
   "id": "d2976ea9",
   "metadata": {},
   "source": [
    "<b>MACHINE LEARNING IMPLEMENTATION :</b>"
   ]
  },
  {
   "cell_type": "code",
   "execution_count": 518,
   "id": "4ad3390e",
   "metadata": {},
   "outputs": [],
   "source": [
    "# IMPORTING NECESSARY PACKAGES AND MODULES :\n",
    "\n",
    "from sklearn.model_selection import train_test_split\n",
    "from sklearn import metrics\n",
    "from sklearn import svm\n",
    "from sklearn.svm import LinearSVC\n",
    "from sklearn.metrics import classification_report\n",
    "from sklearn.feature_extraction.text import TfidfVectorizer \n",
    "# To convert Text data into vector form \n"
   ]
  },
  {
   "cell_type": "code",
   "execution_count": 502,
   "id": "34e10789",
   "metadata": {},
   "outputs": [
    {
     "data": {
      "text/plain": [
       "array([[0,\n",
       "        'Go until jurong point, crazy.. Available only in bugis n great world la e buffet... Cine there got amore wat...'],\n",
       "       [0, 'Ok lar... Joking wif u oni...'],\n",
       "       [1,\n",
       "        \"Free entry in 2 a wkly comp to win FA Cup final tkts 21st May 2005. Text FA to 87121 to receive entry question(std txt rate)T&C's apply 08452810075over18's\"],\n",
       "       [0, 'U dun say so early hor... U c already then say...'],\n",
       "       [0,\n",
       "        \"Nah I don't think he goes to usf, he lives around here though\"]],\n",
       "      dtype=object)"
      ]
     },
     "execution_count": 502,
     "metadata": {},
     "output_type": "execute_result"
    }
   ],
   "source": [
    "#   Reading data : \n",
    "\n",
    "mail.iloc[0:5].values"
   ]
  },
  {
   "cell_type": "markdown",
   "id": "2a0667c3",
   "metadata": {},
   "source": [
    "<b>Converting 'Text Data' into 'Feature Vectors' that can be used as Input for ML Model :-</b>"
   ]
  },
  {
   "cell_type": "code",
   "execution_count": 511,
   "id": "5e89041a",
   "metadata": {},
   "outputs": [
    {
     "name": "stdout",
     "output_type": "stream",
     "text": [
      "Number of different words: 8440\n",
      "Word example: ['ptbo', 'pthis', 'pub', 'public', 'publish']\n",
      "(5157, 8440)\n",
      "x_train shape  : (4125, 8440)\n",
      "x_test shape   : (1032, 8440)\n",
      "y_train shape  : (4125,)\n",
      "y_test shape   : (1032,)\n"
     ]
    }
   ],
   "source": [
    "# Vectorize words - Turn the text numerical feature vectors :\n",
    "\n",
    "vectorizer= TfidfVectorizer(min_df=1,\n",
    "                            stop_words='english',\n",
    "                            lowercase='True')\n",
    "x_=vectorizer.fit_transform(x)\n",
    "\n",
    "\n",
    "# to get all the possible Feature :\n",
    "feature_names = vectorizer.get_feature_names()\n",
    "print(\"Number of different words: {0}\".format(len(feature_names)))\n",
    "\n",
    "# To get a few Word Examples :\n",
    "print(\"Word example: {0}\".format(feature_names[6000:6005]))\n",
    "\n",
    "# TRAIN-TEST SPLIT :\n",
    "# Creating a train/test split using 20% test size.\n",
    "\n",
    "x_train ,x_test, y_train, y_test = train_test_split(x_,\n",
    "                                                    y,\n",
    "                                                    train_size=0.8,\n",
    "                                                    test_size=0.2,\n",
    "                                                    stratify=y,\n",
    "                                                    random_state=4)\n",
    "\n",
    "y_train=y_train.astype(int)        # Converting y_train to type <int> from <object> \n",
    "y_test=y_test.astype(int)          # Converting y_test to type <int> from <object>\n",
    "\n",
    "print(x_train_features.shape)\n",
    "print(\"x_train shape  :\",x_train.shape)\n",
    "print(\"x_test shape   :\",x_test.shape)\n",
    "print(\"y_train shape  :\",y_train.shape)\n",
    "print(\"y_test shape   :\",y_test.shape)\n"
   ]
  },
  {
   "cell_type": "markdown",
   "id": "00b36b54",
   "metadata": {},
   "source": [
    "<b>SVM ALGORITHM IMPLEMENTATION :</b>"
   ]
  },
  {
   "cell_type": "code",
   "execution_count": 531,
   "id": "c84b1609",
   "metadata": {},
   "outputs": [
    {
     "name": "stdout",
     "output_type": "stream",
     "text": [
      "accuracy on train data = 99.95151515151515\n",
      "Classification Report on test data :\n",
      "               precision    recall  f1-score   support\n",
      "\n",
      "           0       1.00      1.00      1.00      3612\n",
      "           1       1.00      1.00      1.00       513\n",
      "\n",
      "    accuracy                           1.00      4125\n",
      "   macro avg       1.00      1.00      1.00      4125\n",
      "weighted avg       1.00      1.00      1.00      4125\n",
      "\n",
      "accuracy on test data = 97.67441860465115 \n",
      "\n",
      "Classification Report on test data :\n",
      "               precision    recall  f1-score   support\n",
      "\n",
      "           0       0.98      1.00      0.99       904\n",
      "           1       0.97      0.84      0.90       128\n",
      "\n",
      "    accuracy                           0.98      1032\n",
      "   macro avg       0.97      0.92      0.94      1032\n",
      "weighted avg       0.98      0.98      0.98      1032\n",
      "\n"
     ]
    }
   ],
   "source": [
    "# SVM MODEL :\n",
    "\n",
    "# Creating classifier :\n",
    "model= LinearSVC()\n",
    "\n",
    "# Fit the classifier on the training features and labels :\n",
    "model.fit(x_train,y_train)\n",
    "\n",
    "\n",
    "# prediction & checking accuracy on trained data :\n",
    "\n",
    "prediction_on_training_data=model.predict(x_train)\n",
    "accuracy=metrics.accuracy_score(prediction_on_training_data,y_train)\n",
    "\n",
    "print(\"accuracy on train data =\", accuracy*100)\n",
    "print(\"Classification Report on test data :\\n\",classification_report(y_train,prediction_on_training_data))\n",
    "\n",
    "# prediction & checking accuracy on test data :\n",
    "\n",
    "prediction_on_test_data=model.predict(x_test)\n",
    "accuracy_=metrics.accuracy_score(prediction_on_test_data,y_test)\n",
    "\n",
    "print(\"accuracy on test data =\", accuracy_*100,'\\n')\n",
    "print(\"Classification Report on test data :\\n\",classification_report(y_test,prediction_on_test_data))\n"
   ]
  },
  {
   "cell_type": "markdown",
   "id": "fdae3794",
   "metadata": {},
   "source": [
    "<b> PREDICTING THE TYPE OF MAIL BY GIVING INPUT TO THE MODEL :</b>                                                          \n",
    "<b>Function  testcase()</b> is written for the above"
   ]
  },
  {
   "cell_type": "code",
   "execution_count": 553,
   "id": "839505cb",
   "metadata": {},
   "outputs": [
    {
     "name": "stdout",
     "output_type": "stream",
     "text": [
      "Enter the mail to be checked\tText FA to 87121 to receive entry question(std txt rate)T&C's apply 08452810075over18's\n",
      "\n",
      "The input mail is  : 'A SPAM' Mail\n"
     ]
    }
   ],
   "source": [
    "def test_case():\n",
    "#    test_email = [\"Free Free Free,A gift will be spent to you, register with us\"]\n",
    "#    test_mail  = [\"Hi Mike!, Lets go for football tomorrow\"]\n",
    "   \n",
    "    test_mail   = input(\"Enter the mail to be checked\\t\")\n",
    "    examples   = feature_extraction.transform(test_email)\n",
    "    prediction = model.predict(examples)\n",
    "\n",
    "\n",
    "    if prediction==0:\n",
    "        prediction=\"\\'NOT A SPAM\\'\" \n",
    "    else:\n",
    "        prediction=\" \\'A SPAM\\'\"\n",
    "    print(f\"\\nThe input mail is  :{prediction.upper()} Mail\") \n",
    "\n",
    "    \n",
    "test_case()\n",
    "\n",
    "\n",
    "# ALSO CAN BE DONE LIKE THIS : (TERNARY OPERATOR WAY)\n",
    "#print(\"The Input Email is \\'NOT A SPAM\\'\") if prediction==0 else print(\"The Input Email is \\'A SPAM\\'\")\n",
    "    "
   ]
  },
  {
   "cell_type": "markdown",
   "id": "202cac11",
   "metadata": {},
   "source": [
    "<b>ANOTHER WAY FOR GIVING INPUT :</b>\n",
    "\n",
    "<b>NOTE :</b>                                                                                                                   \n",
    "Spam Mail_ ---> 1                                                                                                        \n",
    "Normal Mail ---> 0"
   ]
  },
  {
   "cell_type": "code",
   "execution_count": 552,
   "id": "cd83eac8",
   "metadata": {},
   "outputs": [
    {
     "data": {
      "text/plain": [
       "array([0, 1, 0, 0, 1, 1])"
      ]
     },
     "execution_count": 552,
     "metadata": {},
     "output_type": "execute_result"
    }
   ],
   "source": [
    "email = [\"Hello George, how about a game of tennis tomorrow?\",\n",
    "         \"You are awarded a SiPix Digital Camera! call\",\n",
    "         \"Dear Sara, I prepared the annual report. Please check the attachment.\",\n",
    "         \"Hi David, will we go for cinema tonight?\",\n",
    "         \"Free entry in 2 a wkly comp to win FA Cup final tkts 21st May 2005.\",\n",
    "         \"Text FA to 87121 to receive entry question(std txt rate)T&C's apply 08452810075over18's\"]\n",
    "\n",
    "\n",
    "examples = vectorizer.transform(email)\n",
    "predictions = model.predict(examples)\n",
    "predictions\n"
   ]
  }
 ],
 "metadata": {
  "kernelspec": {
   "display_name": "Python 3",
   "language": "python",
   "name": "python3"
  },
  "language_info": {
   "codemirror_mode": {
    "name": "ipython",
    "version": 3
   },
   "file_extension": ".py",
   "mimetype": "text/x-python",
   "name": "python",
   "nbconvert_exporter": "python",
   "pygments_lexer": "ipython3",
   "version": "3.8.8"
  }
 },
 "nbformat": 4,
 "nbformat_minor": 5
}
